{
 "cells": [
  {
   "cell_type": "code",
   "execution_count": 0,
   "metadata": {
    "application/vnd.databricks.v1+cell": {
     "cellMetadata": {},
     "inputWidgets": {},
     "nuid": "0e4764ee-f2b8-4085-89e7-fd0ec59e591a",
     "showTitle": false,
     "tableResultSettingsMap": {},
     "title": ""
    }
   },
   "outputs": [],
   "source": [
    "/*produto: idProduto, descCategoria\n",
    "pedido: idPedido, idCliente, dtPedido, dtAprovado, dtEnvio, dtEntregue\n",
    "item_pedido: idPedido, idProduto, idPedidoItem, idVendedor, vlPreco, vlFrete\n",
    "cliente: idCliente, descUF\n",
    "avaliacao_pedido: idAvaliacao, idPedido, vlNota, dtAvaliacao\n",
    "vendedor: idVendedor, descUF\n",
    "pagamento_pedido: idPedido, descTipoPagamento, nrParcelas */"
   ]
  },
  {
   "cell_type": "code",
   "execution_count": 0,
   "metadata": {
    "application/vnd.databricks.v1+cell": {
     "cellMetadata": {
      "byteLimit": 2048000,
      "rowLimit": 10000
     },
     "inputWidgets": {},
     "nuid": "282bc6f0-e8d3-4ad4-9a2b-ec565510a628",
     "showTitle": false,
     "tableResultSettingsMap": {},
     "title": ""
    }
   },
   "outputs": [],
   "source": [
    "\n",
    "WITH tabela AS(\n",
    "SELECT\n",
    "      A.*,\n",
    "      date(B.dtPedido),\n",
    "      C.descUF\n",
    "FROM silver.olist.item_pedido A\n",
    "\n",
    "LEFT JOIN silver.olist.pedido B\n",
    "ON A.idPedido = B.idPedido\n",
    "\n",
    "LEFT JOIN silver.olist.vendedor C\n",
    "ON A.idVendedor = C.idVendedor\n",
    ")\n",
    "\n",
    "SELECT \n",
    "      date(dtPedido) AS dtPedido,\n",
    "      MONTH(dtPedido) AS Mes,\n",
    "      YEAR(dtPedido) AS Ano,\n",
    "      idVendedor,\n",
    "      descUF,\n",
    "      (CASE \n",
    "        WHEN descUF IN ('SP', 'RJ', 'MG', 'ES') THEN 'SUDESTE'\n",
    "        WHEN descUF IN ('PR', 'SC', 'RS') THEN 'SUL'\n",
    "        WHEN descUF IN ('RO', 'AC', 'AM', 'RR', 'AP', 'PA', 'TO') THEN 'NORTE'\n",
    "        WHEN descUF IN ('MT', 'MS', 'GO', 'DF') THEN 'CENTRO-OESTE'\n",
    "        WHEN descUF IN ('BA', 'SE', 'AL', 'CE', 'MA', 'PE') THEN 'NORDESTE'\n",
    "      END) AS Regiao,\n",
    "      SUM(vlPreco) + SUM(vlFrete) AS totalPreco\n",
    "FROM tabela\n",
    "WHERE date(dtPedido) < '2017-06-01'\n",
    "\n",
    "GROUP BY ALL\n",
    "\n",
    "\n"
   ]
  },
  {
   "cell_type": "code",
   "execution_count": 0,
   "metadata": {
    "application/vnd.databricks.v1+cell": {
     "cellMetadata": {
      "byteLimit": 2048000,
      "rowLimit": 10000
     },
     "inputWidgets": {},
     "nuid": "289a4b93-d059-4d19-a01d-ce7203a52ac1",
     "showTitle": false,
     "tableResultSettingsMap": {},
     "title": ""
    }
   },
   "outputs": [],
   "source": [
    "\n",
    "WITH tabela AS(\n",
    "SELECT\n",
    "      A.*,\n",
    "      date(B.dtPedido),\n",
    "      C.descUF\n",
    "FROM silver.olist.item_pedido A\n",
    "\n",
    "LEFT JOIN silver.olist.pedido B\n",
    "ON A.idPedido = B.idPedido\n",
    "\n",
    "LEFT JOIN silver.olist.vendedor C\n",
    "ON A.idVendedor = C.idVendedor\n",
    "),\n",
    "\n",
    "tabela2 AS(\n",
    "SELECT \n",
    "      date(dtPedido) AS dtPedido,\n",
    "      MONTH(dtPedido) AS Mes,\n",
    "      YEAR(dtPedido) AS Ano,\n",
    "      idVendedor,\n",
    "      descUF,\n",
    "      (CASE \n",
    "        WHEN descUF IN ('SP', 'RJ', 'MG', 'ES') THEN 'SUDESTE'\n",
    "        WHEN descUF IN ('PR', 'SC', 'RS') THEN 'SUL'\n",
    "        WHEN descUF IN ('RO', 'AC', 'AM', 'RR', 'AP', 'PA', 'TO') THEN 'NORTE'\n",
    "        WHEN descUF IN ('MT', 'MS', 'GO', 'DF') THEN 'CENTRO-OESTE'\n",
    "        WHEN descUF IN ('BA', 'SE', 'AL', 'CE', 'MA', 'PE') THEN 'NORDESTE'\n",
    "      END) AS Regiao,\n",
    "      SUM(vlPreco) + SUM(vlFrete) AS GMV\n",
    "FROM tabela\n",
    "WHERE date(dtPedido) < '2017-06-01'\n",
    "\n",
    "GROUP BY ALL\n",
    "),\n",
    "\n",
    "shareGMV AS(\n",
    "SELECT DISTINCT\n",
    "      descUF,\n",
    "      SUM(GMV) / (SELECT SUM(GMV) FROM tabela2) AS ShareGMV\n",
    "FROM tabela2\n",
    "GROUP BY ALL\n",
    ")\n",
    "\n",
    "SELECT\n",
    "A.*,\n",
    "B.shareGMV\n",
    "FROM tabela2 A\n",
    "\n",
    "LEFT JOIN shareGMV B\n",
    "ON A.descUF = B.descUF\n",
    "\n",
    "\n",
    "\n"
   ]
  }
 ],
 "metadata": {
  "application/vnd.databricks.v1+notebook": {
   "computePreferences": null,
   "dashboards": [],
   "environmentMetadata": {
    "base_environment": "",
    "environment_version": "2"
   },
   "language": "sql",
   "notebookMetadata": {},
   "notebookName": "Tabela Vendedor",
   "widgets": {}
  },
  "language_info": {
   "name": "sql"
  }
 },
 "nbformat": 4,
 "nbformat_minor": 0
}
